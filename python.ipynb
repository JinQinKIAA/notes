{
 "cells": [
  {
   "cell_type": "code",
   "execution_count": 25,
   "id": "f3fb68ac",
   "metadata": {},
   "outputs": [],
   "source": [
    "class Cat:\n",
    "    def __init__(self):\n",
    "        pass\n",
    "    def __bool__(self):\n",
    "        return False\n",
    "    # def __len__(self):\n",
    "    #     return 10\n",
    "\n",
    "cat = Cat()\n",
    "\n",
    "if cat:\n",
    "    print('cat')"
   ]
  },
  {
   "cell_type": "code",
   "execution_count": 12,
   "id": "bf7a29fe",
   "metadata": {},
   "outputs": [],
   "source": [
    "cat.__len__()"
   ]
  }
 ],
 "metadata": {
  "kernelspec": {
   "display_name": "python12",
   "language": "python",
   "name": "python3"
  },
  "language_info": {
   "codemirror_mode": {
    "name": "ipython",
    "version": 3
   },
   "file_extension": ".py",
   "mimetype": "text/x-python",
   "name": "python",
   "nbconvert_exporter": "python",
   "pygments_lexer": "ipython3",
   "version": "3.12.9"
  }
 },
 "nbformat": 4,
 "nbformat_minor": 5
}
